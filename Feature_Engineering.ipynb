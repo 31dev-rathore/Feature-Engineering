{
  "nbformat": 4,
  "nbformat_minor": 0,
  "metadata": {
    "colab": {
      "provenance": []
    },
    "kernelspec": {
      "name": "python3",
      "display_name": "Python 3"
    },
    "language_info": {
      "name": "python"
    }
  },
  "cells": [
    {
      "cell_type": "markdown",
      "source": [
        "**Assignment Questions**"
      ],
      "metadata": {
        "id": "M1lAOdMoDepq"
      }
    },
    {
      "cell_type": "markdown",
      "source": [
        "Q.1 What is a parameter?\n",
        "\n",
        "A parameter is a variable used to pass information into a function, method, or procedure. It acts as an input that the function can use to perform operations or calculations.\n"
      ],
      "metadata": {
        "id": "2njtG7SeDes-"
      }
    },
    {
      "cell_type": "markdown",
      "source": [
        "Q.2 What is correlation?\n",
        "What does negative correlation mean?\n",
        "\n",
        "Correlation measures the relationship or connection between two variables, showing how one variable changes with respect to the other.\n",
        "\n",
        "Negative correlation means that as one variable increases, the other decreases. For example, more exercise is negatively correlated with weight gain.\n"
      ],
      "metadata": {
        "id": "JOPwFKbqDt2p"
      }
    },
    {
      "cell_type": "markdown",
      "source": [
        "Q.3 Define Machine Learning. What are the main components in Machine Learning?\n",
        "\n",
        "Machine Learning is a branch of artificial intelligence where computers learn patterns from data to make predictions or decisions without being explicitly programmed."
      ],
      "metadata": {
        "id": "WyVnvYC6EL2s"
      }
    },
    {
      "cell_type": "markdown",
      "source": [
        "Q.4 How does loss value help in determining whether the model is good or not?\n",
        "\n",
        "The loss value indicates how far the model’s predictions are from the actual results. A low loss value means the model is performing well, while a high loss value indicates poor performance. It helps in tuning the model to improve accuracy."
      ],
      "metadata": {
        "id": "CFhex07gEL5k"
      }
    },
    {
      "cell_type": "markdown",
      "source": [
        "Q.5 What are continuous and categorical variables?\n",
        "\n",
        "**Continuous Variables:** Numeric values with infinite possibilities (e.g., height, weight).\n",
        "\n",
        "**Categorical Variables:** Group or category labels (e.g., gender, color).\n",
        "\n"
      ],
      "metadata": {
        "id": "HNoTDbO1EL8a"
      }
    },
    {
      "cell_type": "markdown",
      "source": [
        "Q.6 How do we handle categorical variables in Machine Learning? What are the common techniques?\n",
        "\n",
        "Categorical variables in Machine Learning are handled by converting them into a numerical format that models can understand.\n",
        "\n",
        "* Common Techniques:\n",
        "Label Encoding:\n",
        "Assigns each category a unique integer.\n",
        "Example: Red=0, Blue=1, Green=2.\n",
        "\n",
        "\n",
        "* One-Hot Encoding:\n",
        "Creates binary columns for each category.\n",
        "Example: Red → [1,0,0], Blue → [0,1,0], Green → [0,0,1].\n",
        "\n",
        "\n",
        "* Ordinal Encoding:\n",
        "Assigns integers to categories based on an order or ranking.\n",
        "Example: Low=1, Medium=2, High=3.\n",
        "\n",
        "\n",
        "* Frequency/Count Encoding:\n",
        "Replaces categories with their frequency or count in the dataset.\n",
        "\n",
        "\n",
        "* Target Encoding:\n",
        "Replaces categories with the mean of the target variable for each category."
      ],
      "metadata": {
        "id": "L9Ej2ZUTEL_p"
      }
    },
    {
      "cell_type": "markdown",
      "source": [
        "Q.7 What do you mean by training and testing a dataset?\n",
        "\n",
        "Training and Testing a Dataset:\n",
        "\n",
        "Training: Data used to teach the model to recognize patterns.\n",
        "\n",
        "Testing: Data used to evaluate the model's performance on unseen data."
      ],
      "metadata": {
        "id": "T83mCd7iFg26"
      }
    },
    {
      "cell_type": "markdown",
      "source": [
        "Q.8 What is sklearn.preprocessing?\n",
        "\n",
        "A module in Scikit-learn used for scaling, encoding, and transforming data to prepare it for machine learning models."
      ],
      "metadata": {
        "id": "MuTdjuOBFg6G"
      }
    },
    {
      "cell_type": "markdown",
      "source": [
        "Q.9 What is a Test set?\n",
        "\n",
        "A Test set is a portion of the data used to evaluate the performance of a trained machine learning model. It helps check how well the model predicts on new, unseen data.\n"
      ],
      "metadata": {
        "id": "SHr6gC-RFg9B"
      }
    },
    {
      "cell_type": "markdown",
      "source": [
        "Q.10 How do we split data for model fitting (training and testing) in Python?\n",
        "How do you approach a Machine Learning problem?\n",
        "\n",
        "**Data Split:**\n",
        "Use `train_test_split` to divide data into training and testing sets.\n",
        "\n",
        "**ML Problem Approach:**\n",
        "Understand data → Preprocess → Split data → Choose model → Train → Evaluate → Tune → Deploy.\n"
      ],
      "metadata": {
        "id": "b9SDpiy7FhAl"
      }
    },
    {
      "cell_type": "markdown",
      "source": [
        "Q.11 Why do we have to perform EDA before fitting a model to the data?\n",
        "\n",
        "We perform EDA (Exploratory Data Analysis) to understand the data, detect patterns, anomalies, and missing values, and ensure the data is clean and suitable for building an accurate model.\n",
        "\n"
      ],
      "metadata": {
        "id": "LW4DVu3uG-68"
      }
    },
    {
      "cell_type": "markdown",
      "source": [
        "Q.12 What is correlation?\n",
        "\n",
        "Correlation is a statistical measure that shows the relationship between two variables, indicating how one changes with respect to the other.\n"
      ],
      "metadata": {
        "id": "wy0ZN1tWG---"
      }
    },
    {
      "cell_type": "markdown",
      "source": [
        "Q.13 What does negative correlation mean?\n",
        "\n",
        "Negative correlation means that when one variable increases, the other decreases, and vice versa.\n"
      ],
      "metadata": {
        "id": "BYnFOU8gG_CW"
      }
    },
    {
      "cell_type": "markdown",
      "source": [
        "Q.14 How can you find correlation between variables in Python?\n",
        "\n",
        "We can find correlation between variables in Python using the `.corr()`method in Pandas, which calculates the correlation matrix. Visualization can be done using libraries like Seaborn heatmap.\n",
        "\n",
        "\n"
      ],
      "metadata": {
        "id": "kDk_SsdhHz0Z"
      }
    },
    {
      "cell_type": "markdown",
      "source": [
        "Q.15 What is causation? Explain difference between correlation and causation with an example.\n",
        "\n",
        "**Causation:**\n",
        "Causation means **one variable directly affects** or causes a change in another variable.\n",
        "\n",
        "### **Difference:**\n",
        "\n",
        "* **Correlation:** Variables move together but don’t cause each other.\n",
        "* **Causation:** One variable’s change **directly causes** the other to change.\n",
        "\n",
        "### **Example:**\n",
        "\n",
        "* **Correlation:** Ice cream sales and drowning cases both increase in summer (but one doesn’t cause the other).\n",
        "* **Causation:** Smoking causes lung cancer — here, smoking directly affects health.\n",
        "\n"
      ],
      "metadata": {
        "id": "-14e6tYNIyTe"
      }
    },
    {
      "cell_type": "markdown",
      "source": [
        "Q.16 What is an Optimizer? What are different types of optimizers? Explain each with an example.\n",
        "\n",
        "**Optimizer:**\n",
        "Algorithm that adjusts model parameters to **minimize loss**.\n",
        "\n",
        "**Types:**\n",
        "\n",
        "* **Gradient Descent:** Simple but slow.\n",
        "* **SGD:** Fast, updates per data point.\n",
        "* **Mini-Batch:** Updates on data batches.\n",
        "* **Adam:** Fast, adaptive learning rate.\n",
        "* **RMSProp:** Good for sequential data.\n"
      ],
      "metadata": {
        "id": "yAPM7E9fIyWW"
      }
    },
    {
      "cell_type": "markdown",
      "source": [
        "Q.17 What is sklearn.linear_model ?\n",
        "\n",
        "**`sklearn.linear_model`** is a module in **Scikit-learn** that provides **linear models for regression and classification tasks**.\n",
        "\n",
        "### **Common Models:**\n",
        "\n",
        "* **LinearRegression:** For predicting continuous values.\n",
        "* **LogisticRegression:** For classification problems.\n",
        "* **Ridge, Lasso:** For regularized regression to prevent overfitting.\n",
        "\n",
        "It helps implement linear-based algorithms easily in machine learning.\n",
        "}\n"
      ],
      "metadata": {
        "id": "IIsnMK9gIyZe"
      }
    },
    {
      "cell_type": "markdown",
      "source": [
        "Q.18 What does model.fit() do? What arguments must be given?\n",
        "\n",
        "**`model.fit()`** is used to **train a machine learning model** by learning the relationship between **input data (X)** and **target labels (y)**.\n",
        "\n",
        "## **Key Arguments:**\n",
        "\n",
        "* **X:** Training features.\n",
        "* **y:** Target values.\n",
        "* **Optional:**\n",
        "\n",
        "  * **epochs:** Number of training iterations (deep learning).\n",
        "  * **batch\\_size:** Number of samples per update.\n",
        "  * **validation\\_data:** Data for validation during training.\n",
        "\n",
        "It helps the model **adjust internal parameters** to reduce prediction errors.\n"
      ],
      "metadata": {
        "id": "4kbzJzrzIyco"
      }
    },
    {
      "cell_type": "markdown",
      "source": [
        "Q.19 What does model.predict() do? What arguments must be given?\n",
        "\n",
        "**`model.predict()`** generates **output predictions** using the **trained model**.\n",
        "\n",
        "### **Argument Required:**\n",
        "\n",
        "* **New input data (X):** The data you want to predict outcomes for.\n",
        "\n",
        "It applies the learned patterns to the input and returns predicted **labels or values** depending on whether it's a classification or regression model.\n"
      ],
      "metadata": {
        "id": "3M5109aYIygA"
      }
    },
    {
      "cell_type": "markdown",
      "source": [
        "Q.20 What are continuous and categorical variables?\n",
        "\n",
        "* **Continuous Variables:** Numeric values that can take any value within a range (e.g., height, weight, income).\n",
        "\n",
        "* **Categorical Variables:** Data divided into categories or groups (e.g., gender, colors, city names).\n"
      ],
      "metadata": {
        "id": "5Sz5X6oBKCMY"
      }
    },
    {
      "cell_type": "markdown",
      "source": [
        "Q.21 What is feature scaling? How does it help in Machine Learning?\n",
        "\n",
        "**Feature Scaling** is the process of **normalizing or standardizing** data so that all features have a **similar scale or range**.\n",
        "\n",
        "### **How it Helps:**\n",
        "\n",
        "* Improves **model performance** and **convergence speed**.\n",
        "* Essential for algorithms like **KNN, SVM, Gradient Descent**.\n",
        "* Prevents features with larger values from dominating the model.\n",
        "\n",
        "Common methods:\n",
        "\n",
        "* **Standardization:** Mean = 0, Std Dev = 1.\n",
        "* **Normalization:** Scales data between 0 and 1.\n"
      ],
      "metadata": {
        "id": "BwxrL8KXKCPL"
      }
    },
    {
      "cell_type": "markdown",
      "source": [
        "Q.22 How do we perform scaling in Python?\n",
        "\n",
        "Scaling in Python is done using **Scikit-learn’s preprocessing module**.\n",
        "\n",
        "### Common Methods:\n",
        "\n",
        "* **StandardScaler:** Standardizes data to zero mean and unit variance.\n",
        "* **MinMaxScaler:** Scales data within a specific range, usually 0 to 1.\n",
        "* **RobustScaler:** Scales data using the median and IQR, useful for outliers.\n",
        "\n",
        "These scalers transform the features to a similar scale, helping models train efficiently.\n"
      ],
      "metadata": {
        "id": "BuXbSLKUKCSs"
      }
    },
    {
      "cell_type": "markdown",
      "source": [
        "Q.23 What is sklearn.preprocessing?\n",
        "\n",
        "sklearn.preprocessing is a **Scikit-learn module** used to **prepare and transform data** before training machine learning models.\n",
        "\n",
        "### **Common Uses:**\n",
        "\n",
        "* **Scaling data** (e.g., StandardScaler).\n",
        "* **Encoding categorical variables** (e.g., OneHotEncoder).\n",
        "* **Normalizing data**.\n",
        "\n",
        "It ensures data is in the right format and scale for better model performance.\n"
      ],
      "metadata": {
        "id": "DYdWriP5KI6k"
      }
    },
    {
      "cell_type": "markdown",
      "source": [
        "Q.24 How do we split data for model fitting (training and testing) in Python?\n",
        "\n",
        "We split data for model fitting using **`train_test_split`** to divide it into:\n",
        "\n",
        "* **Training set:** To train the model.\n",
        "* **Testing set:** To evaluate the model’s performance.\n",
        "\n",
        "### Example Approach:\n",
        "\n",
        "* **80% training data**\n",
        "* **20% testing data**\n",
        "\n",
        "This ensures the model is tested on **unseen data** to check accuracy and generalization.\n"
      ],
      "metadata": {
        "id": "bL1a2VzVKI98"
      }
    },
    {
      "cell_type": "markdown",
      "source": [
        "Q.25 Explain data encoding?\n",
        "\n",
        "**Data Encoding** is the process of **converting categorical data into numerical form** so that machine learning models can understand and process it.\n",
        "\n",
        "### **Common Techniques:**\n",
        "\n",
        "* **Label Encoding:** Converts categories to numbers (e.g., Red=0, Blue=1).\n",
        "* **One-Hot Encoding:** Creates binary columns for each category.\n",
        "* **Ordinal Encoding:** Numbers represent categories with order (e.g., Low=1, Medium=2, High=3).\n",
        "\n",
        "Encoding is essential for models that only work with numbers.\n"
      ],
      "metadata": {
        "id": "ieE8VJ-gKOPa"
      }
    }
  ]
}